{
 "cells": [
  {
   "cell_type": "code",
   "execution_count": 3,
   "metadata": {},
   "outputs": [
    {
     "name": "stdout",
     "output_type": "stream",
     "text": [
      "What you want to search for cars or bike:\n",
      "1 for car\n",
      "2 for bikes\n"
     ]
    },
    {
     "data": {
      "text/plain": [
       "[]"
      ]
     },
     "execution_count": 3,
     "metadata": {},
     "output_type": "execute_result"
    }
   ],
   "source": [
    "from flask import Flask, render_template, request\n",
    "from urllib.request import urlopen\n",
    "from bs4 import BeautifulSoup as bs\n",
    "import requests\n",
    "\n",
    "print(\"What you want to search for cars or bike:\")\n",
    "print(\"1 for car\\n2 for bikes\")\n",
    "user_input=int(input(\"Enter your choice:\"))\n",
    "\n",
    "if user_input==1:\n",
    "    car_brand=input(\"Enter the car companie name\")\n",
    "    #car_model=input(\"Enter the car model name if any or enter black space\")\n",
    "    main_url=\"https://www.zigwheels.com/\"+car_brand+\"-cars/\"\n",
    "\n",
    "elif user_input==2:\n",
    "    bike_brand=input(\"Enter the bike companie name\")\n",
    "    #bike_model=input(\"Enter the bike model name if any or enter black space\")\n",
    "    main_url=\"https://www.zigwheels.com/\"+bike_brand+\"-bikes/\"\n",
    "\n",
    "else:\n",
    "    print(None)    \n",
    "\n",
    "response=requests.get(main_url)\n",
    "\n",
    "html_source=bs(response.text,'html.parser')\n",
    "sorted_html_page=html_source.find_all('li', {'class':\"col-lg-6 txt-c rel modelItem\"})\n",
    "\n",
    "links=[]\n",
    "for i in sorted_html_page:\n",
    "    links.append(i.find_all('a',{\"data-track-label\":\"launched-model-name\"}))\n",
    "       \n",
    "combined_links = list(zip(*links))\n",
    "#print(combined_links)\n",
    "html_content=[]\n",
    "for i in combined_links:\n",
    "    if type(i)==tuple:\n",
    "        for j in i:\n",
    "            html_content.append(j)\n",
    "html_content_links=[]            \n",
    "for i in html_content:\n",
    "   html_content_links.append(i['href'])\n",
    "\n",
    "sorted_link_review=[]\n",
    "for review_page in html_content_links:\n",
    "    review_page_response=requests.get(review_page)\n",
    "    review_page_html=bs(review_page_response.text,\"html.parser\")\n",
    "    sorted_review_page_data=review_page_html.find_all('ul', {'class':\"txt-c mt-0 mb-0 fnt-14 mmv-nv\"})\n",
    "    sorted_link_review.append(sorted_review_page_data)\n",
    "\n",
    "combined_links_review=list(zip(*sorted_link_review))   \n",
    "combined_links_review_list=[]\n",
    "\n",
    "for k in combined_links_review:\n",
    "    if type(k) == tuple:\n",
    "        for l in k:\n",
    "            combined_links_review_list.append(l)\n",
    "combined_links_review_list  \n",
    "\n",
    "     "
   ]
  }
 ],
 "metadata": {
  "kernelspec": {
   "display_name": "Python 3",
   "language": "python",
   "name": "python3"
  },
  "language_info": {
   "codemirror_mode": {
    "name": "ipython",
    "version": 3
   },
   "file_extension": ".py",
   "mimetype": "text/x-python",
   "name": "python",
   "nbconvert_exporter": "python",
   "pygments_lexer": "ipython3",
   "version": "3.11.6"
  }
 },
 "nbformat": 4,
 "nbformat_minor": 2
}
