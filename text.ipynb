{
 "cells": [
  {
   "cell_type": "code",
   "execution_count": 20,
   "metadata": {},
   "outputs": [
    {
     "data": {
      "text/plain": [
       "['https://www.zigwheels.com/ktm-bikes/duke-200',\n",
       " 'https://www.zigwheels.com/ktm-bikes/duke-390',\n",
       " 'https://www.zigwheels.com/ktm-bikes/duke-250',\n",
       " 'https://www.zigwheels.com/ktm-bikes/125-duke',\n",
       " 'https://www.zigwheels.com/ktm-bikes/2021-rc-200',\n",
       " 'https://www.zigwheels.com/ktm-bikes/rc-390',\n",
       " 'https://www.zigwheels.com/ktm-bikes/2021-rc-125',\n",
       " 'https://www.zigwheels.com/ktm-bikes/390-adventure',\n",
       " 'https://www.zigwheels.com/ktm-bikes/250-adventure',\n",
       " 'https://www.zigwheels.com/ktm-bikes/390-adventure-x']"
      ]
     },
     "execution_count": 20,
     "metadata": {},
     "output_type": "execute_result"
    }
   ],
   "source": [
    "from flask import Flask, render_template, request\n",
    "from urllib.request import urlopen\n",
    "from bs4 import BeautifulSoup as bs\n",
    "import requests\n",
    "\n",
    "main_url=\"https://www.zigwheels.com/\"+\"ktm-bikes\"\n",
    "\n",
    "#open_url=urlopen(main_url)\n",
    "\n",
    "response=requests.get(main_url)\n",
    "\n",
    "html_source=bs(response.text,'html.parser')\n",
    "sorted_html_page=html_source.find_all('li', {'class':\"col-lg-6 txt-c rel modelItem\"})\n",
    "\n",
    "links=[]\n",
    "for i in sorted_html_page:\n",
    "    links.append(i.find_all('a',{\"data-track-label\":\"launched-model-name\"}))\n",
    "       \n",
    "combined_links = list(zip(*links))\n",
    "#print(combined_links)\n",
    "html_content=[]\n",
    "for i in combined_links:\n",
    "    if type(i)==tuple:\n",
    "        for j in i:\n",
    "            html_content.append(j)\n",
    "bikes_links=[]            \n",
    "for i in html_content:\n",
    "   bikes_links.append(i['href'])\n",
    "bikes_links  \n",
    "     "
   ]
  }
 ],
 "metadata": {
  "kernelspec": {
   "display_name": "Python 3",
   "language": "python",
   "name": "python3"
  },
  "language_info": {
   "codemirror_mode": {
    "name": "ipython",
    "version": 3
   },
   "file_extension": ".py",
   "mimetype": "text/x-python",
   "name": "python",
   "nbconvert_exporter": "python",
   "pygments_lexer": "ipython3",
   "version": "3.11.6"
  }
 },
 "nbformat": 4,
 "nbformat_minor": 2
}
