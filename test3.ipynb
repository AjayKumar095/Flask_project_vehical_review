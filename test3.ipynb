{
 "cells": [
  {
   "cell_type": "code",
   "execution_count": null,
   "metadata": {},
   "outputs": [],
   "source": [
    "import csv\n",
    "\n",
    "# Sample data\n",
    "sno_data = [1, 2, 3, 4, 5]\n",
    "name_data = ['Car A', 'Car B', 'Car C', 'Car D', 'Car E']\n",
    "price_data = [10000, 15000, 12000, 18000, 20000]\n",
    "specification_data = ['Spec A', 'Spec B', 'Spec C', 'Spec D', 'Spec E']\n",
    "features_data = ['Feature A', 'Feature B', 'Feature C', 'Feature D', 'Feature E']\n",
    "review_data = ['Good', 'Excellent', 'Good', 'Excellent', 'Good']\n",
    "\n",
    "# CSV file path\n",
    "csv_file_path = 'products.csv'\n",
    "\n",
    "# Writing to CSV file\n",
    "with open(csv_file_path, 'w', newline='') as csvfile:\n",
    "    # Create a CSV writer object\n",
    "    csv_writer = csv.writer(csvfile)\n",
    "\n",
    "    # Write the header\n",
    "    csv_writer.writerow(['Sno.', 'name', 'price', 'specification', 'features', 'review'])\n",
    "\n",
    "    # Write data from the loops\n",
    "    for sno, name, price, spec, features, review in zip(sno_data, name_data, price_data, specification_data, features_data, review_data):\n",
    "        csv_writer.writerow([sno, name, price, spec, features, review])\n",
    "\n",
    "print(f\"CSV file '{csv_file_path}' created successfully.\")\n"
   ]
  }
 ],
 "metadata": {
  "kernelspec": {
   "display_name": "Python 3",
   "language": "python",
   "name": "python3"
  },
  "language_info": {
   "name": "python",
   "version": "3.11.6"
  }
 },
 "nbformat": 4,
 "nbformat_minor": 2
}
