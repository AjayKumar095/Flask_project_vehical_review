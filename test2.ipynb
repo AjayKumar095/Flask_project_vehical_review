{
 "cells": [
  {
   "cell_type": "code",
   "execution_count": 81,
   "metadata": {},
   "outputs": [
    {
     "data": {
      "text/plain": [
       "['Rs. 1.73 - 2.15 Lakh', 'Rs. 2.39 - 2.79 Lakh', 'Rs. 14.99 - 21.99 Lakh']"
      ]
     },
     "execution_count": 81,
     "metadata": {},
     "output_type": "execute_result"
    }
   ],
   "source": [
    "from urllib.request import urlopen\n",
    "from bs4 import BeautifulSoup as bs\n",
    "import requests\n",
    "\n",
    "\n",
    "\n",
    "url1='https://www.zigwheels.com/royal-enfield-bikes/bullet-350'\n",
    "url2='https://www.zigwheels.com/harley-davidson-bikes/x440'\n",
    "url3='https://www.zigwheels.com/mg-motor-cars/hector'\n",
    "\n",
    "link_list=[url1,url2,url3]\n",
    "\n",
    "price_list=[]\n",
    "for link in link_list:\n",
    "    response=requests.get(link)\n",
    "\n",
    "    html_content=bs(response.text, 'html.parser')\n",
    "    html_links=html_content.find('span',{'class':\"fnt-black fnt-18 b modelPrice-fnt\"})\n",
    "\n",
    "    string_link=str(html_links)\n",
    "    string_link\n",
    "    soup=bs(string_link, 'html.parser')\n",
    "\n",
    "    price=soup.span.text\n",
    "    price=price.replace('\\n','')\n",
    "    price_list.append(str(price))\n",
    "price_list"
   ]
  },
  {
   "cell_type": "code",
   "execution_count": 109,
   "metadata": {},
   "outputs": [
    {
     "name": "stdout",
     "output_type": "stream",
     "text": [
      "['Engine: 349 CC, Max Power: 20.4 PS @ 6100 rpm, Fuel Capacity: 13 Liters, No Of Gears: 5 Speed, Tyre Type: Tube, Kerb Weight: 195 Kg, Max Torque: 27 Nm @ 4000 rpm', 'Engine: 440 CC, Mileage: 35 Kmpl, Max Power: 27.37 PS @ 6000 rpm, Fuel Capacity: 13.5 Liters, No Of Gears: 6 Speed, Tyre Type: Tubeless, Kerb Weight: 190.5 Kg, Max Torque: 38 Nm @ 4000 rpm', 'Engine: 1451 - 1956 CC, Mileage: 12.34 - 15.58 Kmpl, Transmission: Manual / Automatic, Fuel Type: Petrol / Diesel, Max Power: 141bhp@5000rpm, Seating Capacity: 5, Drive Type: 2WD, Body Type: SUV']\n"
     ]
    }
   ],
   "source": [
    "from urllib.request import urlopen\n",
    "from bs4 import BeautifulSoup as bs\n",
    "import requests\n",
    "\n",
    "\n",
    "url1='https://www.zigwheels.com/royal-enfield-bikes/bullet-350'\n",
    "url2='https://www.zigwheels.com/harley-davidson-bikes/x440'\n",
    "url3='https://www.zigwheels.com/mg-motor-cars/hector'\n",
    "\n",
    "link_list=[url1,url2,url3]\n",
    "\n",
    "Specifications_list_string=[]\n",
    "for link in link_list:\n",
    "      response=requests.get(link)\n",
    "\n",
    "      html_content=bs(response.text, 'html.parser')\n",
    "      html_links=html_content.find('ul',{'class':\"pb-20\"})\n",
    "      html_links=str(html_links)\n",
    "\n",
    "      soup=bs(html_links, 'html.parser')\n",
    "\n",
    "      Specifications = soup.find_all('li')\n",
    "      specifications_strings = []\n",
    "      for li in Specifications:\n",
    "          li_text = li.find(string=True, recursive=False).strip()\n",
    "          span_text = li.span.get_text(strip=True)\n",
    "          specification_string=(f\"{li_text}: {span_text}\")\n",
    "          specifications_strings.append(specification_string)\n",
    "      specifications_string_for_link = '\\n'.join(specifications_strings)\n",
    "    \n",
    "    # Print or use the specifications_string_for_link as needed\n",
    "      specifications_string_for_link=specifications_string_for_link.replace('\\n',', ')\n",
    "      Specifications_list_string.append(specifications_string_for_link)\n",
    "print(Specifications_list_string)"
   ]
  },
  {
   "cell_type": "code",
   "execution_count": 103,
   "metadata": {},
   "outputs": [
    {
     "data": {
      "text/plain": [
       "['Starting (Self Start Only), ABS (Dual Channel), Wheels Type (Spoke), Speedometer (Analogue), Tyre Type (Tube), Trip Meter (Digital)',\n",
       " 'Starting (Self Start Only), ABS (Dual Channel), Clock , Wheels Type (Alloy), Low Fuel Warning Lamp , Speedometer (Digital), Tyre Type (Tubeless), Trip Meter (Digital), Pass Switch ',\n",
       " 'Airbags (Driver, Passenger, Side Front and Side Rear), ABS , AC , Central Locking , Power Steering , Max Torque (250Nm@1600-3600rpm)']"
      ]
     },
     "execution_count": 103,
     "metadata": {},
     "output_type": "execute_result"
    }
   ],
   "source": [
    "from urllib.request import urlopen\n",
    "from bs4 import BeautifulSoup as bs\n",
    "import requests\n",
    "\n",
    "\n",
    "url1='https://www.zigwheels.com/royal-enfield-bikes/bullet-350'\n",
    "url2='https://www.zigwheels.com/harley-davidson-bikes/x440'\n",
    "url3='https://www.zigwheels.com/mg-motor-cars/hector'\n",
    "\n",
    "link_list=[url1,url2,url3]\n",
    "\n",
    "Features_string_list=[]\n",
    "for link in link_list:\n",
    "      response=requests.get(link)\n",
    "\n",
    "      html_content=bs(response.text, 'html.parser')\n",
    "      html_links=html_content.find('ul',{'id':\"keyFeatures\"})\n",
    "      html_links=str(html_links)\n",
    "\n",
    "      soup=bs(html_links,'html.parser')\n",
    "\n",
    "      Features=soup.find_all('li')\n",
    "      features_string = '\\n'.join(feature.text for feature in Features) \n",
    "      features_string=features_string.replace('\\n',', ')\n",
    "      Features_string_list.append(features_string)       \n",
    "Features_string_list      "
   ]
  },
  {
   "cell_type": "code",
   "execution_count": 83,
   "metadata": {},
   "outputs": [
    {
     "data": {
      "text/plain": [
       "[' The MG Hector has stuck to the basics of space, comfort and quality. If you prioritize these aspects, consider buying this SUV. However, if you want a more engaging driving experience, you can consider other options. ',\n",
       " ' The MG Hector has stuck to the basics of space, comfort and quality. If you prioritize these aspects, consider buying this SUV. However, if you want a more engaging driving experience, you can consider other options. ',\n",
       " ' The MG Hector has stuck to the basics of space, comfort and quality. If you prioritize these aspects, consider buying this SUV. However, if you want a more engaging driving experience, you can consider other options. ']"
      ]
     },
     "execution_count": 83,
     "metadata": {},
     "output_type": "execute_result"
    }
   ],
   "source": [
    "from urllib.request import urlopen\n",
    "from bs4 import BeautifulSoup as bs\n",
    "import requests\n",
    "\n",
    "\n",
    "url1='https://www.zigwheels.com/royal-enfield-bikes/bullet-350'\n",
    "url2='https://www.zigwheels.com/harley-davidson-bikes/x440'\n",
    "url3='https://www.zigwheels.com/mg-motor-cars/hector'\n",
    "\n",
    "link_list=[url1,url2,url3]\n",
    "\n",
    "Expert_Conclusion_string=[]\n",
    "for link in link_list:\n",
    "     response=requests.get(link)\n",
    "\n",
    "     html_content=bs(response.text, 'html.parser')\n",
    "     html_links=html_content.find('ul',{'class':\"pl-15 pt-10\"})\n",
    "     html_links=str(html_links)\n",
    "\n",
    "     soup=bs(html_links,'html.parser')\n",
    "\n",
    "     paragraph=soup.find_all('li')\n",
    "\n",
    "     paragraph=str(paragraph)\n",
    "     soup_=bs(paragraph, 'html.parser')\n",
    "\n",
    "     Expert_Conclusion=soup_.find('p',{'class':\"mb-0 clr\"})\n",
    "     Expert_Conclusion=Expert_Conclusion.text\n",
    "     Expert_Conclusion_string.append(str(Expert_Conclusion))\n",
    "Expert_Conclusion_string    "
   ]
  }
 ],
 "metadata": {
  "kernelspec": {
   "display_name": "Python 3",
   "language": "python",
   "name": "python3"
  },
  "language_info": {
   "codemirror_mode": {
    "name": "ipython",
    "version": 3
   },
   "file_extension": ".py",
   "mimetype": "text/x-python",
   "name": "python",
   "nbconvert_exporter": "python",
   "pygments_lexer": "ipython3",
   "version": "3.11.6"
  }
 },
 "nbformat": 4,
 "nbformat_minor": 2
}
