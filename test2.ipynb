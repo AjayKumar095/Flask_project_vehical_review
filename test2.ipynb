{
 "cells": [
  {
   "cell_type": "code",
   "execution_count": 67,
   "metadata": {},
   "outputs": [
    {
     "name": "stdout",
     "output_type": "stream",
     "text": [
      "Rs. 1.73 - 2.15 Lakh \n",
      "\n",
      "Rs. 2.39 - 2.79 Lakh \n",
      "\n",
      "Rs. 14.99 - 21.99 Lakh \n",
      "\n"
     ]
    }
   ],
   "source": [
    "from urllib.request import urlopen\n",
    "from bs4 import BeautifulSoup as bs\n",
    "import requests\n",
    "\n",
    "\n",
    "url1='https://www.zigwheels.com/royal-enfield-bikes/bullet-350'\n",
    "url2='https://www.zigwheels.com/harley-davidson-bikes/x440'\n",
    "url3='https://www.zigwheels.com/mg-motor-cars/hector'\n",
    "\n",
    "link_list=[url1,url2,url3]\n",
    "\n",
    "for link in link_list:\n",
    "    response=requests.get(link)\n",
    "\n",
    "    html_content=bs(response.text, 'html.parser')\n",
    "    html_links=html_content.find('span',{'class':\"fnt-black fnt-18 b modelPrice-fnt\"})\n",
    "\n",
    "    string_link=str(html_links)\n",
    "    string_link\n",
    "    soup=bs(string_link, 'html.parser')\n",
    "\n",
    "    price=soup.span.text\n",
    "    price=price.replace('\\n','')\n",
    "    print(price,'\\n')\n"
   ]
  },
  {
   "cell_type": "code",
   "execution_count": 73,
   "metadata": {},
   "outputs": [
    {
     "name": "stdout",
     "output_type": "stream",
     "text": [
      "Engine: 1451 - 1956 CC\n",
      "Mileage: 12.34 - 15.58 Kmpl\n",
      "Transmission: Manual / Automatic\n",
      "Fuel Type: Petrol / Diesel\n",
      "Max Power: 141bhp@5000rpm\n",
      "Seating Capacity: 5\n",
      "Drive Type: 2WD\n",
      "Body Type: SUV\n",
      "Engine: 1451 - 1956 CC\n",
      "Mileage: 12.34 - 15.58 Kmpl\n",
      "Transmission: Manual / Automatic\n",
      "Fuel Type: Petrol / Diesel\n",
      "Max Power: 141bhp@5000rpm\n",
      "Seating Capacity: 5\n",
      "Drive Type: 2WD\n",
      "Body Type: SUV\n",
      "Engine: 1451 - 1956 CC\n",
      "Mileage: 12.34 - 15.58 Kmpl\n",
      "Transmission: Manual / Automatic\n",
      "Fuel Type: Petrol / Diesel\n",
      "Max Power: 141bhp@5000rpm\n",
      "Seating Capacity: 5\n",
      "Drive Type: 2WD\n",
      "Body Type: SUV\n"
     ]
    }
   ],
   "source": [
    "from urllib.request import urlopen\n",
    "from bs4 import BeautifulSoup as bs\n",
    "import requests\n",
    "\n",
    "\n",
    "url1='https://www.zigwheels.com/royal-enfield-bikes/bullet-350'\n",
    "url2='https://www.zigwheels.com/harley-davidson-bikes/x440'\n",
    "url3='https://www.zigwheels.com/mg-motor-cars/hector'\n",
    "\n",
    "link_list=[url1,url2,url3]\n",
    "\n",
    "for link in link_list:\n",
    "      response=requests.get(url3)\n",
    "\n",
    "      html_content=bs(response.text, 'html.parser')\n",
    "      html_links=html_content.find('ul',{'class':\"pb-20\"})\n",
    "      html_links=str(html_links)\n",
    "\n",
    "      soup=bs(html_links, 'html.parser')\n",
    "\n",
    "      Specifications = soup.find_all('li')\n",
    "\n",
    "      for li in Specifications:\n",
    "          li_text = li.find(string=True, recursive=False).strip()\n",
    "          span_text = li.span.get_text(strip=True)\n",
    "          print(f\"{li_text}: {span_text}\")\n",
    "          "
   ]
  },
  {
   "cell_type": "code",
   "execution_count": 74,
   "metadata": {},
   "outputs": [
    {
     "name": "stdout",
     "output_type": "stream",
     "text": [
      "Starting (Self Start Only)\n",
      "ABS (Dual Channel)\n",
      "Clock \n",
      "Wheels Type (Alloy)\n",
      "Low Fuel Warning Lamp \n",
      "Speedometer (Digital)\n",
      "Tyre Type (Tubeless)\n",
      "Trip Meter (Digital)\n",
      "Pass Switch \n",
      "Starting (Self Start Only)\n",
      "ABS (Dual Channel)\n",
      "Clock \n",
      "Wheels Type (Alloy)\n",
      "Low Fuel Warning Lamp \n",
      "Speedometer (Digital)\n",
      "Tyre Type (Tubeless)\n",
      "Trip Meter (Digital)\n",
      "Pass Switch \n",
      "Starting (Self Start Only)\n",
      "ABS (Dual Channel)\n",
      "Clock \n",
      "Wheels Type (Alloy)\n",
      "Low Fuel Warning Lamp \n",
      "Speedometer (Digital)\n",
      "Tyre Type (Tubeless)\n",
      "Trip Meter (Digital)\n",
      "Pass Switch \n"
     ]
    }
   ],
   "source": [
    "from urllib.request import urlopen\n",
    "from bs4 import BeautifulSoup as bs\n",
    "import requests\n",
    "\n",
    "\n",
    "url1='https://www.zigwheels.com/royal-enfield-bikes/bullet-350'\n",
    "url2='https://www.zigwheels.com/harley-davidson-bikes/x440'\n",
    "url3='https://www.zigwheels.com/mg-motor-cars/hector'\n",
    "\n",
    "link_list=[url1,url2,url3]\n",
    "\n",
    "for link in link_list:\n",
    "      response=requests.get(url2)\n",
    "\n",
    "      html_content=bs(response.text, 'html.parser')\n",
    "      html_links=html_content.find('ul',{'id':\"keyFeatures\"})\n",
    "      html_links=str(html_links)\n",
    "\n",
    "      soup=bs(html_links,'html.parser')\n",
    "\n",
    "      Features=soup.find_all('li')\n",
    "\n",
    "      for i in Features:\n",
    "          print(i.text)\n",
    "\n"
   ]
  },
  {
   "cell_type": "code",
   "execution_count": 75,
   "metadata": {},
   "outputs": [],
   "source": [
    "from urllib.request import urlopen\n",
    "from bs4 import BeautifulSoup as bs\n",
    "import requests\n",
    "\n",
    "\n",
    "url1='https://www.zigwheels.com/royal-enfield-bikes/bullet-350'\n",
    "url2='https://www.zigwheels.com/harley-davidson-bikes/x440'\n",
    "url3='https://www.zigwheels.com/mg-motor-cars/hector'\n",
    "\n",
    "link_list=[url1,url2,url3]\n",
    "\n",
    "for link in link_list:\n",
    "     response=requests.get(url3)\n",
    "\n",
    "     html_content=bs(response.text, 'html.parser')\n",
    "     html_links=html_content.find('ul',{'class':\"pl-15 pt-10\"})\n",
    "     html_links=str(html_links)\n",
    "\n",
    "     soup=bs(html_links,'html.parser')\n",
    "\n",
    "     paragraph=soup.find_all('li')\n",
    "\n",
    "     paragraph=str(paragraph)\n",
    "     soup_=bs(paragraph, 'html.parser')\n",
    "\n",
    "     Expert_Conclusion=soup_.find('p',{'class':\"mb-0 clr\"})\n",
    "     Expert_Conclusion=Expert_Conclusion.text\n",
    "     print(Expert_Conclusion, '\\n')"
   ]
  }
 ],
 "metadata": {
  "kernelspec": {
   "display_name": "Python 3",
   "language": "python",
   "name": "python3"
  },
  "language_info": {
   "codemirror_mode": {
    "name": "ipython",
    "version": 3
   },
   "file_extension": ".py",
   "mimetype": "text/x-python",
   "name": "python",
   "nbconvert_exporter": "python",
   "pygments_lexer": "ipython3",
   "version": "3.11.6"
  }
 },
 "nbformat": 4,
 "nbformat_minor": 2
}
